{
 "cells": [
  {
   "cell_type": "code",
   "execution_count": 1,
   "id": "4f60e79f",
   "metadata": {},
   "outputs": [
    {
     "name": "stdout",
     "output_type": "stream",
     "text": [
      "Enter a string:ilakkiya\n",
      "i = 02\n",
      "l = 01\n",
      "a = 02\n",
      "k = 02\n",
      "y = 01\n"
     ]
    }
   ],
   "source": [
    "def most_frequent(s,j):\n",
    "    num=s.count(j)\n",
    "    print(j,\"= {0:02d}\".format(num))\n",
    "s=input('Enter a string:')\n",
    "lst=[]\n",
    "for i in s:\n",
    "    if i not in lst:\n",
    "        lst.append(i)\n",
    "for j in lst:\n",
    "    most_frequent(s,j)"
   ]
  }
 ],
 "metadata": {
  "kernelspec": {
   "display_name": "Python 3 (ipykernel)",
   "language": "python",
   "name": "python3"
  },
  "language_info": {
   "codemirror_mode": {
    "name": "ipython",
    "version": 3
   },
   "file_extension": ".py",
   "mimetype": "text/x-python",
   "name": "python",
   "nbconvert_exporter": "python",
   "pygments_lexer": "ipython3",
   "version": "3.10.9"
  }
 },
 "nbformat": 4,
 "nbformat_minor": 5
}
